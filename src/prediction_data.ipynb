{
 "cells": [
  {
   "cell_type": "code",
   "execution_count": 2,
   "metadata": {},
   "outputs": [
    {
     "name": "stdout",
     "output_type": "stream",
     "text": [
      "128400\n",
      "128400\n",
      "128400\n"
     ]
    }
   ],
   "source": [
    "\n",
    "\n",
    "#prediction data \n",
    "\n",
    "import numpy as np\n",
    "import matplotlib.pyplot as plt\n",
    "from pandas_ods_reader import read_ods\n",
    "import csv\n",
    "import re\n",
    "import os\n",
    "import pandas as pd\n",
    "\n",
    "for num in range(1,4,1):\n",
    "    \n",
    "    f1 = open('prediction_data_in'+str(num)+'.csv','w',encoding='utf-8')\n",
    "    csv_writer = csv.writer(f1) \n",
    "    csv_writer.writerow(\"M\")\n",
    "\n",
    "    folder_num = range(6,7,1)\n",
    "    for i in folder_num:\n",
    "        folder = str(i)\n",
    "        path1 = folder + \"/opencv_data_in\"+str(num)\n",
    "        data1 = pd.read_csv(path1)\n",
    "        data1 = data1.values\n",
    "        print(data1.shape[0])\n",
    "        for j in range(0,data1.shape[0]):\n",
    "            csv_writer.writerow(data1[j,:])        \n",
    "    f1.close()\n",
    "\n"
   ]
  },
  {
   "cell_type": "code",
   "execution_count": 3,
   "metadata": {},
   "outputs": [
    {
     "name": "stdout",
     "output_type": "stream",
     "text": [
      "(128400, 1)\n",
      "(128400, 1)\n",
      "(128400, 1)\n"
     ]
    }
   ],
   "source": [
    "path1 = \"prediction_data_in1.csv\"\n",
    "path2 = \"prediction_data_in2.csv\"\n",
    "path3 = \"prediction_data_in3.csv\"\n",
    "\n",
    "data1 = pd.read_csv(path1)\n",
    "data1 = data1.values\n",
    "data2 = pd.read_csv(path2)\n",
    "data2 = data2.values\n",
    "data3 = pd.read_csv(path3)\n",
    "data3 = data3.values\n",
    "\n",
    "print(data1.shape)\n",
    "print(data2.shape)\n",
    "print(data3.shape)"
   ]
  },
  {
   "cell_type": "code",
   "execution_count": 5,
   "metadata": {},
   "outputs": [],
   "source": [
    "\n",
    "data_in1 = np.zeros((data1.shape[0],320))\n",
    "data_in2 = np.zeros((data2.shape[0],320))\n",
    "data_in3 = np.zeros((data3.shape[0],320))\n",
    "for u in range(0,data1.shape[0]):\n",
    "    if data1[u,0] != \"MMM\":\n",
    "        a = data1[u,0]\n",
    "        b = a.split(\"\\t\")\n",
    "        for v in range(0,320):\n",
    "            data_in1[u,v] = b[v]\n",
    "            \n",
    "        a = data2[u,0]\n",
    "        b = a.split(\"\\t\")\n",
    "        for v in range(0,320):\n",
    "            data_in2[u,v] = b[v]\n",
    "            \n",
    "        a = data3[u,0]\n",
    "        b = a.split(\"\\t\")\n",
    "        for v in range(0,320):\n",
    "            data_in3[u,v] = b[v]\n",
    "            \n",
    "    else:\n",
    "        data_in1[u,0] = -333\n",
    "        data_in2[u,0] = -333\n",
    "        data_in3[u,0] = -333"
   ]
  },
  {
   "cell_type": "code",
   "execution_count": 6,
   "metadata": {},
   "outputs": [
    {
     "name": "stderr",
     "output_type": "stream",
     "text": [
      "Clipping input data to the valid range for imshow with RGB data ([0..1] for floats or [0..255] for integers).\n"
     ]
    },
    {
     "data": {
      "text/plain": [
       "<matplotlib.image.AxesImage at 0x7f58bdd1e470>"
      ]
     },
     "execution_count": 6,
     "metadata": {},
     "output_type": "execute_result"
    },
    {
     "data": {
      "image/png": "[encoded data removed]",
      "text/plain": [
       "<Figure size 432x288 with 1 Axes>"
      ]
     },
     "metadata": {
      "needs_background": "light"
     },
     "output_type": "display_data"
    }
   ],
   "source": [
    "\n",
    "image = np.zeros((320,320,3))\n",
    "for i in range(0,320):\n",
    "    image[i,:,1] = data_in1[i,:]\n",
    "    image[i,:,2] = data_in2[i,:]\n",
    "    image[i,:,0] = data_in3[i,:]\n",
    "plt.imshow(image)"
   ]
  },
  {
   "cell_type": "code",
   "execution_count": 7,
   "metadata": {},
   "outputs": [
    {
     "name": "stderr",
     "output_type": "stream",
     "text": [
      "Clipping input data to the valid range for imshow with RGB data ([0..1] for floats or [0..255] for integers).\n"
     ]
    },
    {
     "data": {
      "text/plain": [
       "<matplotlib.image.AxesImage at 0x7f58bdc49198>"
      ]
     },
     "execution_count": 7,
     "metadata": {},
     "output_type": "execute_result"
    },
    {
     "data": {
      "image/png": "[encoded data removed]",
      "text/plain": [
       "<Figure size 432x288 with 1 Axes>"
      ]
     },
     "metadata": {
      "needs_background": "light"
     },
     "output_type": "display_data"
    }
   ],
   "source": [
    "limit_top = 167\n",
    "limit_below = 235\n",
    "image = np.zeros((limit_below-limit_top,320,3))\n",
    "for i in range(limit_top,limit_below,1):\n",
    "    image[i-limit_top,:,1] = data_in1[i,:]\n",
    "    image[i-limit_top,:,2] = data_in2[i,:]\n",
    "    image[i-limit_top,:,0] = data_in3[i,:]\n",
    "plt.imshow(image)"
   ]
  },
  {
   "cell_type": "code",
   "execution_count": 9,
   "metadata": {},
   "outputs": [
    {
     "name": "stdout",
     "output_type": "stream",
     "text": [
      "(68, 320, 400)\n"
     ]
    }
   ],
   "source": [
    "picture_num = 400\n",
    "\n",
    "cut_data_in1 = np.zeros((limit_below-limit_top,320,picture_num))\n",
    "cut_data_in2 = np.zeros((limit_below-limit_top,320,picture_num))\n",
    "cut_data_in3 = np.zeros((limit_below-limit_top,320,picture_num))\n",
    "flag = -1\n",
    "flag2 = -1\n",
    "pic_num = 0\n",
    "for k in range(0,data_in1.shape[0]):\n",
    "    if data_in1[k,0] == -333:\n",
    "        flag = -1\n",
    "        flag2 = k\n",
    "        pic_num = pic_num + 1\n",
    "    else:\n",
    "        flag = flag + 1\n",
    "        flag2 = flag2 + 1\n",
    "        \n",
    "    if flag >= limit_top and flag < limit_below:\n",
    "        cut_data_in1[flag-limit_top,:,pic_num] = data_in1[flag2,:]\n",
    "        cut_data_in2[flag-limit_top,:,pic_num] = data_in2[flag2,:]\n",
    "        cut_data_in3[flag-limit_top,:,pic_num] = data_in3[flag2,:]\n",
    "        \n",
    "print(cut_data_in1.shape)"
   ]
  },
  {
   "cell_type": "code",
   "execution_count": 10,
   "metadata": {},
   "outputs": [
    {
     "name": "stderr",
     "output_type": "stream",
     "text": [
      "Clipping input data to the valid range for imshow with RGB data ([0..1] for floats or [0..255] for integers).\n"
     ]
    },
    {
     "data": {
      "text/plain": [
       "<matplotlib.image.AxesImage at 0x7f58b46380b8>"
      ]
     },
     "execution_count": 10,
     "metadata": {},
     "output_type": "execute_result"
    },
    {
     "data": {
      "image/png": "[encoded data removed]",
      "text/plain": [
       "<Figure size 432x288 with 1 Axes>"
      ]
     },
     "metadata": {
      "needs_background": "light"
     },
     "output_type": "display_data"
    }
   ],
   "source": [
    "image2 = np.zeros((limit_below-limit_top,320,3))\n",
    "loc = 79\n",
    "image2[:,:,1] = cut_data_in1[:,:,loc]\n",
    "image2[:,:,2] = cut_data_in2[:,:,loc]\n",
    "image2[:,:,0] = cut_data_in3[:,:,loc]\n",
    "plt.imshow(image2)"
   ]
  },
  {
   "cell_type": "code",
   "execution_count": 11,
   "metadata": {},
   "outputs": [
    {
     "name": "stdout",
     "output_type": "stream",
     "text": [
      "(400, 960)\n"
     ]
    }
   ],
   "source": [
    "\"\"\"\n",
    "f2 = open('prediction_data_in.csv','w',encoding='utf-8')\n",
    "csv_writer2 = csv.writer(f2)\n",
    "input_data = np.zeros((cut_data_in1.shape[2],cut_data_in1.shape[1]))\n",
    "for h in range(0,cut_data_in1.shape[2]):\n",
    "    for k in range(0,cut_data_in1.shape[1]):\n",
    "        input_data[h,k] = sum(cut_data_in1[:,k,h]) + sum(cut_data_in2[:,k,h]) + sum(cut_data_in3[:,k,h])\n",
    "    csv_writer2.writerow(input_data[h,:])\n",
    "f2.close()\n",
    "\"\"\"\n",
    "\n",
    "f2 = open('prediction_data_in.csv','w',encoding='utf-8')\n",
    "csv_writer2 = csv.writer(f2)\n",
    "input_data = np.zeros((cut_data_in1.shape[2],cut_data_in1.shape[1]*2))\n",
    "input_data2 = np.zeros((cut_data_in1.shape[2],cut_data_in1.shape[1]*3))\n",
    "Blue = np.zeros((1,cut_data_in1.shape[1]))\n",
    "Green = np.zeros((1,cut_data_in1.shape[1]))\n",
    "Red = np.zeros((1,cut_data_in1.shape[1]))\n",
    "for h in range(0,cut_data_in1.shape[2]):\n",
    "    for k in range(0,cut_data_in1.shape[1]):\n",
    "        Blue[0,k] = sum(cut_data_in1[:,k,h])\n",
    "        Green[0,k] = sum(cut_data_in2[:,k,h])\n",
    "        Red[0,k] = sum(cut_data_in3[:,k,h])\n",
    "    input_data[h,:] = np.append(Blue[0,:],Green[0,:])\n",
    "    input_data2[h,:] = np.append(input_data[h,:],Red[0,:])\n",
    "    csv_writer2.writerow(input_data2[h,:])\n",
    "f2.close()\n",
    "print(input_data2.shape)"
   ]
  },
  {
   "cell_type": "code",
   "execution_count": 21,
   "metadata": {},
   "outputs": [
    {
     "name": "stdout",
     "output_type": "stream",
     "text": [
      "[[ 4304.  4460.  5006. ... 14235. 14189. 14088.]\n",
      " [ 5166.  5600.  6123. ... 14312. 14269. 14197.]\n",
      " [ 4550.  4936.  4906. ... 13917. 13813. 13710.]\n",
      " ...\n",
      " [ 5157.  5116.  5035. ...  6814.  4184.  4175.]\n",
      " [ 5239.  5139.  5217. ...  4795.  5291.  5221.]\n",
      " [ 5179.  5169.  5011. ...  9003.  6754.  4065.]]\n"
     ]
    }
   ],
   "source": [
    "print(input_data)"
   ]
  },
  {
   "cell_type": "code",
   "execution_count": 15,
   "metadata": {},
   "outputs": [
    {
     "ename": "FileNotFoundError",
     "evalue": "[Errno 2] No such file or directory: 'prediction_data_in2.csv'",
     "output_type": "error",
     "traceback": [
      "\u001b[0;31m---------------------------------------------------------------------------\u001b[0m",
      "\u001b[0;31mFileNotFoundError\u001b[0m                         Traceback (most recent call last)",
      "\u001b[0;32m<ipython-input-15-9b6e2d11b516>\u001b[0m in \u001b[0;36m<module>\u001b[0;34m()\u001b[0m\n\u001b[1;32m      2\u001b[0m \u001b[0;31m#os.remove(\"prediction_data_in1.csv\")\u001b[0m\u001b[0;34m\u001b[0m\u001b[0;34m\u001b[0m\u001b[0;34m\u001b[0m\u001b[0m\n\u001b[1;32m      3\u001b[0m \u001b[0mos\u001b[0m\u001b[0;34m.\u001b[0m\u001b[0mremove\u001b[0m\u001b[0;34m(\u001b[0m\u001b[0;34m\"prediction_data_in2.csv\"\u001b[0m\u001b[0;34m)\u001b[0m\u001b[0;34m\u001b[0m\u001b[0;34m\u001b[0m\u001b[0m\n\u001b[0;32m----> 4\u001b[0;31m \u001b[0mos\u001b[0m\u001b[0;34m.\u001b[0m\u001b[0mremove\u001b[0m\u001b[0;34m(\u001b[0m\u001b[0;34m\"prediction_data_in2.csv\"\u001b[0m\u001b[0;34m)\u001b[0m\u001b[0;34m\u001b[0m\u001b[0;34m\u001b[0m\u001b[0m\n\u001b[0m",
      "\u001b[0;31mFileNotFoundError\u001b[0m: [Errno 2] No such file or directory: 'prediction_data_in2.csv'"
     ]
    }
   ],
   "source": [
    "import os\n",
    "os.remove(\"prediction_data_in1.csv\")\n",
    "os.remove(\"prediction_data_in2.csv\")\n",
    "os.remove(\"prediction_data_in2.csv\")\n"
   ]
  },
  {
   "cell_type": "code",
   "execution_count": null,
   "metadata": {},
   "outputs": [],
   "source": []
  }
 ],
 "metadata": {
  "kernelspec": {
   "display_name": "Python 3",
   "language": "python",
   "name": "python3"
  },
  "language_info": {
   "codemirror_mode": {
    "name": "ipython",
    "version": 3
   },
   "file_extension": ".py",
   "mimetype": "text/x-python",
   "name": "python",
   "nbconvert_exporter": "python",
   "pygments_lexer": "ipython3",
   "version": "3.7.3"
  }
 },
 "nbformat": 4,
 "nbformat_minor": 2
}
